{
 "cells": [
  {
   "cell_type": "code",
   "execution_count": 234,
   "metadata": {
    "id": "pbm89NIAxqYF"
   },
   "outputs": [],
   "source": [
    "import numpy as np\n",
    "import matplotlib.pyplot as plt\n",
    "from sklearn import datasets\n",
    "from tqdm import tqdm\n",
    "\n",
    "from collections import defaultdict\n",
    "import itertools\n",
    "import re\n",
    "\n",
    "import time\n",
    "import math"
   ]
  },
  {
   "cell_type": "code",
   "execution_count": 235,
   "metadata": {
    "id": "BvljlQOnIbyW"
   },
   "outputs": [],
   "source": [
    "### You may import any Python's standard library here (Do not import other external libraries) ###\n",
    "from numpy import linalg as LA\n",
    "from collections import Counter\n",
    "from itertools import combinations"
   ]
  },
  {
   "cell_type": "code",
   "execution_count": 236,
   "metadata": {
    "id": "yL2ZJBoHId7V"
   },
   "outputs": [],
   "source": [
    "pass_test_1 = False\n",
    "pass_test_2 = False\n",
    "pass_test_3 = False\n",
    "pass_test_4 = False\n",
    "pass_test_5 = False\n",
    "pass_test_6 = False\n",
    "pass_test_7 = False\n",
    "pass_test_8 = False\n",
    "pass_test_9 = False"
   ]
  },
  {
   "cell_type": "markdown",
   "metadata": {
    "id": "dRfb-8jb4rxZ"
   },
   "source": [
    "## Implementing LSH algorithm"
   ]
  },
  {
   "cell_type": "markdown",
   "metadata": {
    "id": "-6FBB_DP4zMh"
   },
   "source": [
    "### 0. Dataset"
   ]
  },
  {
   "cell_type": "markdown",
   "metadata": {
    "id": "gV-UZEHD40PS"
   },
   "source": [
    "#### 0.1 Import 20-news dataset"
   ]
  },
  {
   "cell_type": "code",
   "execution_count": 237,
   "metadata": {
    "id": "3mFM3s5i47IG"
   },
   "outputs": [],
   "source": [
    "newsgroup_dataset = datasets.fetch_20newsgroups(data_home='./dataset/', subset='train', \n",
    "                                                remove=('headers', 'footers', 'quotes'), download_if_missing=True)"
   ]
  },
  {
   "cell_type": "code",
   "execution_count": 238,
   "metadata": {
    "id": "M-lb9GPZ483S"
   },
   "outputs": [
    {
     "data": {
      "text/plain": [
       "11314"
      ]
     },
     "execution_count": 238,
     "metadata": {},
     "output_type": "execute_result"
    }
   ],
   "source": [
    "raw_documents = newsgroup_dataset['data']\n",
    "len(raw_documents)"
   ]
  },
  {
   "cell_type": "code",
   "execution_count": 239,
   "metadata": {
    "id": "LmBlWF5P4-As"
   },
   "outputs": [
    {
     "data": {
      "text/plain": [
       "'I was wondering if anyone out there could enlighten me on this car I saw\\nthe other day. It was a 2-door sports car, looked to be from the late 60s/\\nearly 70s. It was called a Bricklin. The doors were really small. In addition,\\nthe front bumper was separate from the rest of the body. This is \\nall I know. If anyone can tellme a model name, engine specs, years\\nof production, where this car is made, history, or whatever info you\\nhave on this funky looking car, please e-mail.'"
      ]
     },
     "execution_count": 239,
     "metadata": {},
     "output_type": "execute_result"
    }
   ],
   "source": [
    "raw_documents[0]"
   ]
  },
  {
   "cell_type": "markdown",
   "metadata": {
    "id": "kfzJeRAt4_fB"
   },
   "source": [
    "#### 0.2 Preprocess the documents"
   ]
  },
  {
   "cell_type": "code",
   "execution_count": 240,
   "metadata": {
    "id": "s2LacYuB5BaZ"
   },
   "outputs": [],
   "source": [
    "K = 5"
   ]
  },
  {
   "cell_type": "code",
   "execution_count": 241,
   "metadata": {
    "id": "b5IitVxj5CbR"
   },
   "outputs": [],
   "source": [
    "def preprocess(documents):\n",
    "    processed_words = defaultdict(list)\n",
    "    cnt = 0\n",
    "    \n",
    "    for doc in documents:\n",
    "        # first, filter out some uncesseary symbols like punctuations\n",
    "        doc = re.sub('\\/|\\-|\\'|\\@|\\%|\\$|\\#|\\,|\\(|\\)|\\}|\\\"|\\{|\\?|\\.|\\!|\\;|\\:', '', doc)\n",
    "        \n",
    "        # second, split the document into the words\n",
    "        for word in doc.split():\n",
    "            \n",
    "            # third, let word to be the lower-case\n",
    "            if word.isalpha():\n",
    "                processed_words[cnt].append(word.lower())\n",
    "        \n",
    "        # fourth, filter out the articles that has less than k words\n",
    "        if len(processed_words[cnt]) < K:\n",
    "            continue\n",
    "        else:\n",
    "            processed_words[cnt] = ' '.join(processed_words[cnt])\n",
    "            cnt += 1\n",
    "\n",
    "    return list(processed_words.values())"
   ]
  },
  {
   "cell_type": "code",
   "execution_count": 242,
   "metadata": {
    "id": "vjRNu3W45Dfh"
   },
   "outputs": [
    {
     "data": {
      "text/plain": [
       "10882"
      ]
     },
     "execution_count": 242,
     "metadata": {},
     "output_type": "execute_result"
    }
   ],
   "source": [
    "documents = preprocess(raw_documents)\n",
    "del raw_documents\n",
    "len(documents)"
   ]
  },
  {
   "cell_type": "code",
   "execution_count": 243,
   "metadata": {
    "id": "BlIxYcM95E6h"
   },
   "outputs": [
    {
     "data": {
      "text/plain": [
       "'i was wondering if anyone out there could enlighten me on this car i saw the other day it was a sports car looked to be from the late early it was called a bricklin the doors were really small in addition the front bumper was separate from the rest of the body this is all i know if anyone can tellme a model name engine specs years of production where this car is made history or whatever info you have on this funky looking car please email'"
      ]
     },
     "execution_count": 243,
     "metadata": {},
     "output_type": "execute_result"
    }
   ],
   "source": [
    "documents[0]"
   ]
  },
  {
   "cell_type": "markdown",
   "metadata": {
    "id": "UZqFw4DE43NZ"
   },
   "source": [
    "### 1. Shingling"
   ]
  },
  {
   "cell_type": "code",
   "execution_count": 244,
   "metadata": {
    "id": "b_CP64oHIrKI"
   },
   "outputs": [],
   "source": [
    "########################################################################################################################\n",
    "# Programming 1  [15pt]                                                                                                #\n",
    "#  In this section, you will implement the shingling algorithm to convert the document into the characteristic matrix. #\n",
    "#  However, since storing the whole characteristic matrix in the form of a dense matrix is expensivein terms of space, #\n",
    "#    your implementation should store the characteristic matrix in the form of a dictionary.                           #\n",
    "#                                                                                                                      #\n",
    "#    i) get the all unique shingles from the documents [10pt]                                                          #\n",
    "#   ii) create the dictionary that maps each document to the list of shingles and their counts [5pt]                   #\n",
    "#                                                                                                                      #\n",
    "#  Note that, shingling is divided into 2-steps just for the readability of the algorithm                              #\n",
    "#                                                                                                                      #\n",
    "########################################################################################################################"
   ]
  },
  {
   "cell_type": "markdown",
   "metadata": {
    "id": "oW8xfwW95GjB"
   },
   "source": [
    "#### 1.1 Get Shingles from the documents"
   ]
  },
  {
   "cell_type": "code",
   "execution_count": 245,
   "metadata": {
    "id": "JWfcq3gc5Kwi"
   },
   "outputs": [],
   "source": [
    "def get_shingles(documents, k):\n",
    "    #######################################################################################\n",
    "    # Programming 1.1  [10pt]                                                             #\n",
    "    #  Implement 'get_shingles' function to get k-singles from the preprocessed documents #\n",
    "    #  You should especially be take care of your algorithm's computational efficiency    #\n",
    "    #                                                                                     #\n",
    "    #  Parameters:                                                                        #\n",
    "    #    documents (dict)                                                                 #\n",
    "    #    k (int)                                                                         #\n",
    "    #                                                                                     # \n",
    "    #  Returns:                                                                           #\n",
    "    #    shingles (set) set of tuples where each element is a k-shingle                   #\n",
    "    #    ex) shingles = {('its', 'hard', 'to', 'say', 'whether'),                         #\n",
    "    #                    ('known', 'bugs', 'in', 'the', 'warning') ...}                   #\n",
    "    #######################################################################################\n",
    "    shingles = list()\n",
    "    for doc in documents:\n",
    "        split_document = doc.split()\n",
    "        for i in range(len(split_document)-k+1):\n",
    "            shingle = split_document[i:i+k]\n",
    "            shingles.append(tuple(shingle))\n",
    "    shingles = set(shingles)\n",
    "    return shingles"
   ]
  },
  {
   "cell_type": "code",
   "execution_count": 246,
   "metadata": {
    "id": "4fSw27n85LVB"
   },
   "outputs": [
    {
     "name": "stdout",
     "output_type": "stream",
     "text": [
      "('an', 'expansion', 'franchise', 'hell', 'probably')\n",
      "Test 1 passed\n",
      "Test 2 passed\n"
     ]
    }
   ],
   "source": [
    "start = time.time()\n",
    "shingles = get_shingles(documents, 5)\n",
    "end = time.time()\n",
    "shingle_list = list(shingles)\n",
    "print(shingle_list[2])\n",
    "\n",
    "# Check w파이썬hether your implementation is correct  [5pt]\n",
    "if len(shingles) == 1766049:\n",
    "  pass_test_1 = True\n",
    "  print('Test 1 passed')\n",
    "\n",
    "  # Check whether your implementation is efficient enough [5pt]\n",
    "  if (end - start) < 20:\n",
    "    pass_test_2 = True\n",
    "    print('Test 2 passed')"
   ]
  },
  {
   "cell_type": "markdown",
   "metadata": {
    "id": "-xkjcbdw5Sap"
   },
   "source": [
    "#### 1.2 Build dictionary"
   ]
  },
  {
   "cell_type": "code",
   "execution_count": 247,
   "metadata": {
    "id": "d4Ge2WPAKKX-"
   },
   "outputs": [],
   "source": [
    "def build_doc_to_shingle_dictionary(documents, shingles):\n",
    "    ################################################################################################################################\n",
    "    # Programming 1.2 [5pt]                                                                                                        #\n",
    "    #  Implement 'build_doc_to_shingle_dictionary' function to convert documents into shingle dictionary with documents & shingles #\n",
    "    #   You need to construct and utilize a shingle2idx dictionary that maps each shingle into the uniuqe integer index.           #\n",
    "    #                                                                                                                              #\n",
    "    #  Parameters:                                                                                                                 #\n",
    "    #    documents (dict)                                                                                                          #                                               \n",
    "    #    shingles (set)                                                                                                            #          \n",
    "    #                                                                                                                              #\n",
    "    #  Returns:                                                                                                                    #\n",
    "    #    doc_to_shingles (dict)                                                                                                    #\n",
    "    #        key: index of the documents                                                                                           #\n",
    "    #        value: list of the shingle indexes and its counts                                                                      #\n",
    "    #        ex) doc_to_shingles = {0: [[1705196, 1], [422880, 1], [491967, 2], ...],                                              #\n",
    "    #                               1: [[863922, 1], [1381606, 2], [1524066, 1], ...],                                             #\n",
    "    #                               ... }                                                                                          #\n",
    "    ################################################################################################################################\n",
    "    \n",
    "    doc_to_shingles = {}\n",
    "    shingle2idx = {}\n",
    "    \n",
    "    for shingle_num, shingle in enumerate(shingles):\n",
    "        shingle2idx[shingle] = shingle_num\n",
    "    \n",
    "    for doc_num, doc in enumerate(documents):\n",
    "        doc_to_shingles[doc_num] = []\n",
    "        doc_shingles = list()\n",
    "        split_document = doc.split()\n",
    "        for i in range(len(split_document)-K+1):\n",
    "            doc_shingle = split_document[i:i+K]\n",
    "            doc_shingles.append(tuple(doc_shingle))\n",
    "        count = Counter(doc_shingles)\n",
    "        doc_count = []\n",
    "        for key in count:\n",
    "            doc_to_shingles[doc_num].append([shingle2idx[key], count[key]])\n",
    "  \n",
    "    return doc_to_shingles"
   ]
  },
  {
   "cell_type": "code",
   "execution_count": 248,
   "metadata": {
    "id": "vwWO1AID5W26"
   },
   "outputs": [
    {
     "name": "stdout",
     "output_type": "stream",
     "text": [
      "Test 3 passed\n"
     ]
    }
   ],
   "source": [
    "# Check whether your implementation is correct  [5pt]\n",
    "start = time.time()\n",
    "doc_to_shingles = build_doc_to_shingle_dictionary(documents, shingles)\n",
    "end = time.time()\n",
    "if (end - start) <= 5 * 60:\n",
    "    if len(doc_to_shingles) == 10882 and len(doc_to_shingles[11]) == 462 and sum([x[1] for x in doc_to_shingles[11]]) == 465:\n",
    "        pass_test_3 = True\n",
    "        print('Test 3 passed')"
   ]
  },
  {
   "cell_type": "markdown",
   "metadata": {
    "id": "hZ_J8lnz5ZlZ"
   },
   "source": [
    "### 2. Random Hyperplanes"
   ]
  },
  {
   "cell_type": "code",
   "execution_count": 249,
   "metadata": {
    "id": "mAp-AXq6M6VF"
   },
   "outputs": [],
   "source": [
    "############################################################################################################################\n",
    "# Programming 2  [25pt]                                                                                                    #\n",
    "#  In this section, you will implement the algorithm to convert the characteristic matrix into the signatures.             #\n",
    "#                                                                                                                          #\n",
    "#    i) implement the cosine-similarity algorithm [5pt]                                                                    #\n",
    "#   ii) implement the algorithm to create the signatures for the documents [20pt]                                          #\n",
    "#                                                                                                                          #\n",
    "############################################################################################################################"
   ]
  },
  {
   "cell_type": "markdown",
   "metadata": {
    "id": "HH6kZgVVVK8M"
   },
   "source": [
    "#### 2.1 Cosine Similarity"
   ]
  },
  {
   "cell_type": "code",
   "execution_count": 250,
   "metadata": {
    "id": "u7tNRYOO5Yfx"
   },
   "outputs": [],
   "source": [
    "def cosine_similarity(v1, v2):\n",
    "    #####################################################################################\n",
    "    # Programming 2.2 [5pt]                                                             #                                    \n",
    "    #   Implement the cosine similarity algorithm to get the similarity of two vectors  #\n",
    "    #                                                                                   #\n",
    "    # Parameters                                                                        #\n",
    "    #    v1 (list)                                                                       #\n",
    "    #    v2 (list)                                                                       #\n",
    "    # Returns                                                                           #\n",
    "    #    similarity (float)                                                             #\n",
    "    #####################################################################################\n",
    "   \n",
    "    similarity = np.dot(v1, v2) / (LA.norm(v1)*LA.norm(v2))\n",
    "    \n",
    "    \n",
    "    \n",
    "    \n",
    "    return similarity"
   ]
  },
  {
   "cell_type": "code",
   "execution_count": 251,
   "metadata": {
    "id": "MUOKvslTUkPm"
   },
   "outputs": [
    {
     "name": "stdout",
     "output_type": "stream",
     "text": [
      "Test 4 passed\n"
     ]
    }
   ],
   "source": [
    "# Check whether your implementation is correct  [5pt]\n",
    "\n",
    "v1 = [1,0,2,0,3,4,5]\n",
    "v2 = [2,1,1,0,2,3,1]\n",
    "\n",
    "if abs(cosine_similarity(v1, v2) - 0.8140) < 1e-3:\n",
    "    pass_test_4 = True\n",
    "    print('Test 4 passed')"
   ]
  },
  {
   "cell_type": "code",
   "execution_count": 252,
   "metadata": {},
   "outputs": [
    {
     "data": {
      "text/plain": [
       "'\\nv1 = [] \\nv2 = []\\nprint(cosine_similarity(v1,v2))\\n'"
      ]
     },
     "execution_count": 252,
     "metadata": {},
     "output_type": "execute_result"
    }
   ],
   "source": [
    "'''\n",
    "v1 = [] \n",
    "v2 = []\n",
    "print(cosine_similarity(v1,v2))\n",
    "'''"
   ]
  },
  {
   "cell_type": "code",
   "execution_count": 253,
   "metadata": {
    "id": "xZE5MzPVzDuJ"
   },
   "outputs": [],
   "source": [
    "def doc_similarity(doc1, doc2):\n",
    "    v1, v2 = np.zeros(len(shingles)), np.zeros(len(shingles))\n",
    "    idx1, val1 = [x[0] for x in doc_to_shingles[doc1]], [x[1] for x in doc_to_shingles[doc1]]\n",
    "    idx2, val2 = [x[0] for x in doc_to_shingles[doc2]], [x[1] for x in doc_to_shingles[doc2]]\n",
    "    v1[idx1] = val1; v2[idx2] = val2\n",
    "\n",
    "    return cosine_similarity(v1, v2)\n"
   ]
  },
  {
   "cell_type": "markdown",
   "metadata": {
    "id": "NCmw-_YtVR7A"
   },
   "source": [
    "#### 2.2 Random Hyperplanes"
   ]
  },
  {
   "cell_type": "code",
   "execution_count": 254,
   "metadata": {
    "id": "4LA_-SW4VoEw"
   },
   "outputs": [],
   "source": [
    "# random hyperplanes\n",
    "M = 256\n",
    "random_vectors = np.random.randn(M, len(shingles))"
   ]
  },
  {
   "cell_type": "code",
   "execution_count": 261,
   "metadata": {
    "id": "M-wptNxzWNQg"
   },
   "outputs": [],
   "source": [
    "def make_signature(doc_to_shingles, random_vectors):\n",
    "    C = len(doc_to_shingles)\n",
    "    M, S = random_vectors.shape\n",
    "    signatures = np.array(np.ones((M, C)) * np.inf, dtype = np.int)\n",
    "    \n",
    "    rand_norm = np.zeros(M)\n",
    "    for i in range(M):\n",
    "        rand_norm[i] = LA.norm(random_vectors[i])\n",
    "    for key in doc_to_shingles:\n",
    "        vect = np.zeros(len(shingles))\n",
    "        idx, val = [x[0] for x in doc_to_shingles[key]], [x[1] for x in doc_to_shingles[key]]\n",
    "        vect[idx] = val\n",
    "        norm_vect = LA.norm(val)\n",
    "        for i in range(M):\n",
    "            calc = np.dot(random_vectors[i][idx], vect[idx])/rand_norm[i]/norm_vect\n",
    "            if calc >= 0:\n",
    "                signatures[i][key] = 1\n",
    "            else:\n",
    "                signatures[i][key] = -1\n",
    "\n",
    "        \n",
    "    \n",
    "    \n",
    "    ###########################################################################################\n",
    "    # Programming 2.3 [20pt]                                                                  #                                    \n",
    "    #   Implement the algorithm to create the signatures for the documents                    #\n",
    "    #   It would take less than 15 minutes to finish computation.                             #                      \n",
    "    #                                                                                         #\n",
    "    #  Parameters                                                                             #\n",
    "    #     doc_to_shingles: (dict) dictionary that maps each document to the list of shingles  #\n",
    "    #     random_vectors: M random vectors                                                    #\n",
    "    #  Returns                                                                                #\n",
    "    #     signatures (np.array) numpy array of size (M, C) where C is the number of documents #\n",
    "    #                                                                                         #\n",
    "    ###########################################################################################\n",
    "  \n",
    "\n",
    "    \n",
    "    return signatures"
   ]
  },
  {
   "cell_type": "code",
   "execution_count": 262,
   "metadata": {
    "id": "BKpIyv7ifHpz"
   },
   "outputs": [],
   "source": [
    "def compare(signatures, doc_to_shingles, trials = 10000):\n",
    "    M, C = signatures.shape\n",
    "    diff_list = []\n",
    "\n",
    "    for t in tqdm(range(trials), position=0, leave=False):\n",
    "        doc1, doc2 = np.random.choice(C, 2, replace=False)\n",
    "\n",
    "    true_sim = doc_similarity(doc1, doc2)\n",
    "  \n",
    "    sig1, sig2 = signatures[:, doc1], signatures[:, doc2]  \n",
    "    approx_sim = math.cos((np.sum(sig1!=sig2) * math.pi) / M)\n",
    "    \n",
    "    diff_list.append(abs(true_sim - approx_sim))\n",
    "\n",
    "    return diff_list"
   ]
  },
  {
   "cell_type": "code",
   "execution_count": 263,
   "metadata": {
    "id": "nAPGNxAuU6cI"
   },
   "outputs": [
    {
     "name": "stderr",
     "output_type": "stream",
     "text": [
      "                                                      "
     ]
    },
    {
     "name": "stdout",
     "output_type": "stream",
     "text": [
      "0.024541228522912142\n",
      "Test 5 passed\n"
     ]
    },
    {
     "name": "stderr",
     "output_type": "stream",
     "text": [
      "\r"
     ]
    }
   ],
   "source": [
    "# Check whether your implementation is correct  [15pt]\n",
    "start = time.time()\n",
    "signatures = make_signature(doc_to_shingles, random_vectors)\n",
    "end = time.time()\n",
    "if (end - start) <= 15 * 60:\n",
    "    diff_list = compare(signatures, doc_to_shingles)\n",
    "    print(np.mean(diff_list))\n",
    "    if np.mean(diff_list) < 0.1:\n",
    "        pass_test_5 = True\n",
    "        print('Test 5 passed')"
   ]
  },
  {
   "cell_type": "markdown",
   "metadata": {
    "id": "PDyrv89Uqsvm"
   },
   "source": [
    "#### 2.3 Qualitive Analysis"
   ]
  },
  {
   "cell_type": "code",
   "execution_count": 264,
   "metadata": {
    "id": "AgS1mo4Am-3P"
   },
   "outputs": [
    {
     "name": "stdout",
     "output_type": "stream",
     "text": [
      "Document 3542\n",
      "i have one complaint for the cameramen doing the jerseypitt series show the shots not the hits on more than one occassion the camera zoomed in on a check along the boards while the puck was in the slot they panned back to show the rebound maybe moms camera people were a little more experienced\n",
      "----------------------------\n",
      "Document 8033\n",
      "i have one complaint for the cameramen doing the jerseypitt series show the shots not the hits on more than one occassion the camera zoomed in on a check along the boards while the puck was in the slot they panned back to show the rebound maybe moms camera people were a little more experienced joseph stiehm exactly that is my biggest complaint about the coverage so far follow that damn puck ravi shah\n",
      "----------------------------\n",
      "\n",
      "True cosine similarity: 0.8535639569308374\n",
      "approx cosine similarity: 0.8639728561215868\n",
      "Test 6 passed\n"
     ]
    }
   ],
   "source": [
    "print('Document 3542')\n",
    "print(documents[3542])\n",
    "print('----------------------------')\n",
    "print('Document 8033')\n",
    "print(documents[8033])\n",
    "print('----------------------------\\n')\n",
    "\n",
    "doc1, doc2 = 3542, 8033\n",
    "\n",
    "true_sim = doc_similarity(doc1, doc2)\n",
    "\n",
    "sig1, sig2 = signatures[:, doc1], signatures[:, doc2]\n",
    "approx_sim = math.cos((np.sum(sig1!=sig2) * math.pi) / M)\n",
    "\n",
    "print('True cosine similarity:', true_sim)\n",
    "print('approx cosine similarity:', approx_sim)\n",
    "\n",
    "# Check whether your implementation is correct  [5pt]\n",
    "if abs(true_sim - approx_sim) < 0.05:\n",
    "    pass_test_6 = True\n",
    "    print('Test 6 passed')"
   ]
  },
  {
   "cell_type": "markdown",
   "metadata": {
    "id": "Vv-lHV2Gq8dO"
   },
   "source": [
    "### 3. Locality Sensitive Hashing"
   ]
  },
  {
   "cell_type": "code",
   "execution_count": 135,
   "metadata": {
    "id": "DOFFNHDfLwot"
   },
   "outputs": [],
   "source": [
    "########################################################################################################################\n",
    "# Programming 3  [35pt]                                                                                                #\n",
    "#  In this section, you will implement the random hyperplane based Locality Sensitive Hashing algorithm to convert signatures   #\n",
    "#  into the similar document pair candidates                                                                           #\n",
    "#  Finally, we will test our results based on the precision, recall and F1 score                                       #\n",
    "#                                                                                                                      #\n",
    "#   1) get the similar document pair candidates [20pt]                                                                 #\n",
    "#   2) calculate precision, recall, and f1 score [10pt]                                                                #\n",
    "#                                                                                                                      #\n",
    "########################################################################################################################"
   ]
  },
  {
   "cell_type": "markdown",
   "metadata": {
    "id": "F0SnFd9yrCqX"
   },
   "source": [
    "#### 3.1. Random Hyperplane based LSH"
   ]
  },
  {
   "cell_type": "code",
   "execution_count": 265,
   "metadata": {
    "id": "C1xyTIamrCWO"
   },
   "outputs": [],
   "source": [
    "def lsh(signatures, b, r):\n",
    "    #########################################################################################################\n",
    "    # Programming 3.1 [20pt]                                                                                #\n",
    "    #   Implement the random hyperplane based LSH algorithm to find the candidate pairs of the similar documents.    #\n",
    "    #   In the implementation, use python's dictionary to make your hash table,                             #\n",
    "    #    where each column is hashedinto a bucket.                                                          #\n",
    "    #   Convert each column vector (within a band) into the tuple and use it as a key of the dictionary.    #\n",
    "    #                                                                                                       #\n",
    "    #  Parameters                                                                                           #\n",
    "    #     signatures: (np.array) numpy array of size (M, C) where                                           #\n",
    "    #                M is the number of random vectors, C is the number of documents                        #\n",
    "    #     b: (int) the number of bands                                                                      #\n",
    "    #     r: (int) the number of rows per each band                                                         #\n",
    "    #                                                                                                       #\n",
    "    #  Requirements                                                                                         #\n",
    "    #     1) M should be equivalent to b * r                                                                #\n",
    "    #                                                                                                       #\n",
    "    #  Returns                                                                                              #\n",
    "    #     candidatePairs (Set[Tuple[int, int]]) set of the pairs of indexes of candidate document pairs     #\n",
    "    #                                                                                                       #\n",
    "    #########################################################################################################\n",
    "    M = signatures.shape[0]  # The number of random vectors\n",
    "    C = signatures.shape[1]  # The number of documents\n",
    "\n",
    "    assert M == b * r\n",
    "\n",
    "    candidatePairs = set()\n",
    "\n",
    "    for i in range(b):\n",
    "        small_sig_trans = signatures[i*r:(i+1)*r][:].T\n",
    "        row_list = list()\n",
    "        for doc in range(C):\n",
    "            row_list.append(tuple(small_sig_trans[doc]))\n",
    "        row_set = set(row_list)\n",
    "        row_set = list(row_set)\n",
    "        for j in range(len(row_set)):\n",
    "            if row_list.count(row_set[j]) >= 2:\n",
    "                count = 0\n",
    "                new_list = list()\n",
    "                idx = -1\n",
    "                while count < row_list.count(row_set[j]):\n",
    "                    idx = row_list.index(row_set[j], idx+1)\n",
    "                    count += 1\n",
    "                    new_list.append(idx)\n",
    "                    \n",
    "                    \n",
    "                candidatePairs.update(combinations(new_list, 2))\n",
    "                    \n",
    "                \n",
    "    # TODO: Write down your code here\n",
    "    \n",
    "    ### Implementation End ###\n",
    "\n",
    "    return candidatePairs"
   ]
  },
  {
   "cell_type": "code",
   "execution_count": 266,
   "metadata": {
    "id": "dqHBAgAD0hKt"
   },
   "outputs": [
    {
     "name": "stdout",
     "output_type": "stream",
     "text": [
      "Test 7 passed\n",
      "Test 8 passed\n",
      "Test 9 passed\n"
     ]
    }
   ],
   "source": [
    "for b in [2, 4, 8]:\n",
    "    r = M // b\n",
    "    tmpPairs = list(lsh(signatures, b, r))\n",
    "\n",
    "    sim_list = []\n",
    "    for i in range(len(tmpPairs)):\n",
    "        sim_list.append(doc_similarity(tmpPairs[i][0], tmpPairs[i][1]))\n",
    "\n",
    "  # Check whether your implementation is correct  [20pt] (b=2: 5pt / b=4: 5pt / b=8: 10pt)\n",
    "    avg_sim = sum(sim_list) / len(sim_list)\n",
    "    if avg_sim > 0.985:\n",
    "        if b == 2:\n",
    "            pass_test_7 = True\n",
    "            print('Test 7 passed')\n",
    "        elif b == 4:\n",
    "            pass_test_8 = True\n",
    "            print('Test 8 passed')\n",
    "        elif b == 8:\n",
    "            pass_test_9 = True\n",
    "            print('Test 9 passed')\n"
   ]
  },
  {
   "cell_type": "markdown",
   "metadata": {
    "id": "ppA725Av0Qch"
   },
   "source": [
    "#### 3.2. Compute the precision, recall, and F1 score"
   ]
  },
  {
   "cell_type": "code",
   "execution_count": 267,
   "metadata": {
    "id": "OYNtWuBvwWli"
   },
   "outputs": [],
   "source": [
    "def query_analysis(signatures, b, s, numConditionPositives):\n",
    "    ###########################################################################################################\n",
    "    # Programming 3.2 [10pt]                                                                                  #\n",
    "    #   Calculate the query time, precision, recall, and F1 score for the given configuration                 #\n",
    "    #                                                                                                         #\n",
    "    #  Parameters                                                                                             #\n",
    "    #     signatures: (np.array) numpy array of size (M, C) where                                             #\n",
    "    #                M is the number of random vectors, C is the number of documents                      #\n",
    "    #     b: (int) the number of bands                                                                        #\n",
    "    #     s: (float) similarity threshold for checking condition positives                                    #\n",
    "    #     numConditionPositives: (int) the number of condition positives                                      #\n",
    "    #                                                                                                         #\n",
    "    #  Requirements                                                                                           #\n",
    "    #     1) b should be the divisor of M                                                                     #\n",
    "    #     2) 0 <= s <= 1                                                                                      #\n",
    "    #                                                                                                         #\n",
    "    #  Returns                                                                                                #\n",
    "    #     query time: (float) the execution time of the codes which find the similar document candidate pairs #\n",
    "    #     precision: (float)                                                                                  #\n",
    "    #     recall: (float)                                                                                     #\n",
    "    #     f1: (float) F1-Score                                                                                #\n",
    "    #                                                                                                         #\n",
    "    ###########################################################################################################\n",
    "    M = signatures.shape[0]  # The number of random vectors\n",
    "    assert M % b == 0\n",
    "\n",
    "    # TODO: Write down your code here\n",
    "    r = M//b\n",
    "    \n",
    "    start = time.time()\n",
    "    tmpPairs = list(lsh(signatures, b, r))\n",
    "    end = time.time()\n",
    "    query_time = end - start\n",
    "    count = 0\n",
    "    for i in range(len(tmpPairs)):\n",
    "        if doc_similarity(tmpPairs[i][0], tmpPairs[i][1]) >= s:\n",
    "            count += 1\n",
    "    total = signatures.shape[1]*(signatures.shape[1]-1)/2\n",
    "    precision = count/len(tmpPairs)\n",
    "    recall = count/numConditionPositives\n",
    "    f1 = 2 * (precision * recall) / (precision + recall)\n",
    "    \n",
    "    ### Implementation End ###\n",
    "\n",
    "    return query_time, precision, recall, f1"
   ]
  },
  {
   "cell_type": "code",
   "execution_count": 268,
   "metadata": {
    "id": "UBvkfmCU7QMa"
   },
   "outputs": [
    {
     "name": "stdout",
     "output_type": "stream",
     "text": [
      "2 23.155744314193726 1.0 0.5300546448087432 0.692857142857143\n",
      "4 44.624568700790405 1.0 0.5300546448087432 0.692857142857143\n",
      "8 80.90026497840881 1.0 0.6174863387978142 0.7635135135135135\n",
      "16 212.03172063827515 0.010979208124614013 0.8743169398907104 0.021686093792355653\n"
     ]
    }
   ],
   "source": [
    "b_list = [2, 4, 8, 16]\n",
    "\n",
    "query_time_list = list()\n",
    "precision_list = list()\n",
    "recall_list = list()\n",
    "f1_list = list()\n",
    "\n",
    "# Compute the number of positives\n",
    "s = 0.8                         # threshold\n",
    "numConditionPositives = 183     # This is the computed result when s=0.8, but I gave it to you to save your time.\n",
    "\n",
    "for b in b_list:\n",
    "    query_time, precision, recall, f1 = query_analysis(signatures, b, s, numConditionPositives)\n",
    "    print(b, query_time, precision, recall, f1)\n",
    "    query_time_list.append(query_time)\n",
    "    precision_list.append(precision)\n",
    "    recall_list.append(recall)\n",
    "    f1_list.append(f1)"
   ]
  },
  {
   "cell_type": "code",
   "execution_count": 269,
   "metadata": {
    "id": "CLqLpCPxExQl"
   },
   "outputs": [
    {
     "name": "stdout",
     "output_type": "stream",
     "text": [
      "b:  [2, 4, 8, 16]\n",
      "Query times:  [23.155744314193726, 44.624568700790405, 80.90026497840881, 212.03172063827515]\n",
      "Precisions:  [1.0, 1.0, 1.0, 0.010979208124614013]\n",
      "Recalls:  [0.5300546448087432, 0.5300546448087432, 0.6174863387978142, 0.8743169398907104]\n",
      "F1 scores:  [0.692857142857143, 0.692857142857143, 0.7635135135135135, 0.021686093792355653]\n"
     ]
    }
   ],
   "source": [
    "print(\"b: \", b_list)\n",
    "print(\"Query times: \", query_time_list)\n",
    "print(\"Precisions: \", precision_list)\n",
    "print(\"Recalls: \", recall_list)\n",
    "print(\"F1 scores: \", f1_list)"
   ]
  },
  {
   "cell_type": "code",
   "execution_count": 270,
   "metadata": {
    "id": "PvyampjKB3Q9"
   },
   "outputs": [
    {
     "data": {
      "image/png": "[encoded data removed]",
      "text/plain": [
       "<Figure size 432x288 with 1 Axes>"
      ]
     },
     "metadata": {
      "needs_background": "light"
     },
     "output_type": "display_data"
    }
   ],
   "source": [
    "plt.title(f\"Query time (s={s})\")\n",
    "plt.xlabel(\"b\")\n",
    "plt.ylabel(\"Query time [sec]\")\n",
    "plt.plot(b_list, query_time_list)\n",
    "plt.show()"
   ]
  },
  {
   "cell_type": "code",
   "execution_count": 271,
   "metadata": {
    "id": "cuCGeHwwDK2W"
   },
   "outputs": [
    {
     "data": {
      "image/png": "[encoded data removed]",
      "text/plain": [
       "<Figure size 432x288 with 1 Axes>"
      ]
     },
     "metadata": {
      "needs_background": "light"
     },
     "output_type": "display_data"
    }
   ],
   "source": [
    "plt.title(f\"Precision (s={s})\")\n",
    "plt.xlabel(\"b\")\n",
    "plt.ylabel(\"Precision\")\n",
    "plt.plot(b_list, precision_list)\n",
    "plt.show()"
   ]
  },
  {
   "cell_type": "code",
   "execution_count": 272,
   "metadata": {
    "id": "TnjdXmtPDLkV"
   },
   "outputs": [
    {
     "data": {
      "image/png": "[encoded data removed]",
      "text/plain": [
       "<Figure size 432x288 with 1 Axes>"
      ]
     },
     "metadata": {
      "needs_background": "light"
     },
     "output_type": "display_data"
    }
   ],
   "source": [
    "plt.title(f\"Recall (s={s})\")\n",
    "plt.xlabel(\"b\")\n",
    "plt.ylabel(\"Recall\")\n",
    "plt.plot(b_list, recall_list)\n",
    "plt.show()"
   ]
  },
  {
   "cell_type": "code",
   "execution_count": 273,
   "metadata": {
    "id": "siT5MXfmDMPt"
   },
   "outputs": [
    {
     "data": {
      "image/png": "[encoded data removed]",
      "text/plain": [
       "<Figure size 432x288 with 1 Axes>"
      ]
     },
     "metadata": {
      "needs_background": "light"
     },
     "output_type": "display_data"
    }
   ],
   "source": [
    "plt.title(f\"F1 Score (s={s})\")\n",
    "plt.xlabel(\"b\")\n",
    "plt.ylabel(\"F1 Score\")\n",
    "plt.plot(b_list, f1_list)\n",
    "plt.show()"
   ]
  },
  {
   "cell_type": "code",
   "execution_count": 274,
   "metadata": {
    "id": "rYmbI_FPDNL9"
   },
   "outputs": [
    {
     "name": "stdout",
     "output_type": "stream",
     "text": [
      "-----Test results-----\n",
      "Test 1: Passed\n",
      "Test 2: Passed\n",
      "Test 3: Passed\n",
      "Test 4: Passed\n",
      "Test 5: Passed\n",
      "Test 6: Passed\n",
      "Test 7: Passed\n",
      "Test 8: Passed\n",
      "Test 9: Passed\n",
      "----------------------\n"
     ]
    }
   ],
   "source": [
    "# Check whether the test passed\n",
    "test_msg = {True: \"Passed\", False: \"Failed\"}\n",
    "\n",
    "print(\"-----Test results-----\")\n",
    "print('Test 1:', test_msg[pass_test_1])\n",
    "print('Test 2:', test_msg[pass_test_2])\n",
    "print('Test 3:', test_msg[pass_test_3])\n",
    "print('Test 4:', test_msg[pass_test_4])\n",
    "print('Test 5:', test_msg[pass_test_5])\n",
    "print('Test 6:', test_msg[pass_test_6])\n",
    "print('Test 7:', test_msg[pass_test_7])\n",
    "print('Test 8:', test_msg[pass_test_8])\n",
    "print('Test 9:', test_msg[pass_test_9])\n",
    "print(\"----------------------\")"
   ]
  },
  {
   "cell_type": "code",
   "execution_count": null,
   "metadata": {},
   "outputs": [],
   "source": []
  }
 ],
 "metadata": {
  "colab": {
   "collapsed_sections": [],
   "name": "hw1.ipynb",
   "provenance": []
  },
  "kernelspec": {
   "display_name": "Python 3",
   "language": "python",
   "name": "python3"
  },
  "language_info": {
   "codemirror_mode": {
    "name": "ipython",
    "version": 3
   },
   "file_extension": ".py",
   "mimetype": "text/x-python",
   "name": "python",
   "nbconvert_exporter": "python",
   "pygments_lexer": "ipython3",
   "version": "3.8.3"
  }
 },
 "nbformat": 4,
 "nbformat_minor": 4
}
